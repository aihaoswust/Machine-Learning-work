{
 "cells": [
  {
   "cell_type": "markdown",
   "metadata": {},
   "source": [
    "1、线性回归\n",
    "\n",
    "目的：\n",
    "\n",
    "● 熟悉python的用法\n",
    "● 熟悉numpy\n",
    "要求：\n",
    "● 使用numpy 实现线性回归模型\n",
    "● 数据要求：\n",
    "\t● \n",
    "\t● 教材数据\n",
    "\t● 任意数据集数据\n",
    "● 代码要求，使用向量化数据实现\n",
    "● 文档要求：写出推导过程\n",
    "代码实现："
   ]
  },
  {
   "cell_type": "code",
   "execution_count": 40,
   "metadata": {},
   "outputs": [
    {
     "name": "stdout",
     "output_type": "stream",
     "text": [
      "解得w为： [[0.97005319]\n",
      " [0.94918002]]\n",
      "函数为：f(s)= 0.9701 s+ 0.9492\n"
     ]
    }
   ],
   "source": [
    "import xlrd\n",
    "\n",
    "import numpy as np\n",
    "data = xlrd.open_workbook('jiqinumber.xlsx')\n",
    "sheet = data.sheet_by_index(0)\n",
    "\n",
    "y = [sheet.cell_value(r,0)for r in range(1,sheet.nrows)]\n",
    "\n",
    "x=[sheet.cell_value(r,1)for r in range(1,sheet.nrows)]\n",
    "\n",
    "x1=np.array(x).reshape(len(x),1).tolist()\n",
    "y1=np.array(y).reshape(len(y),1).tolist()\n",
    "for i in range(len(x1)):\n",
    "    x1[i].append(1)\n",
    "\n",
    "\n",
    "\n",
    "A = np.mat(x1)#特征矩阵A\n",
    "\n",
    "A1 = A.transpose()#矩阵A的转置\n",
    "b = np.mat(y)\n",
    "\n",
    "b1 = b.transpose()#y的向量\n",
    "a2=np.dot(A1,A)\n",
    "a3=np.linalg.inv(a2)#求逆\n",
    "a4=np.dot(a3,A1)\n",
    "w=np.dot(a4,b1)\n",
    "\n",
    "print(\"解得w为：\",w)\n",
    "print(\"函数为：f(s)=\",round(w[0,0],4),\"s+\",round(w[1,0],4))\n"
   ]
  },
  {
   "cell_type": "markdown",
   "metadata": {},
   "source": [
    "实验总结：\n",
    "\n",
    "\n",
    "\n",
    "推导过程：对于任意一个给定的样本𝜉 ，令𝑥1=𝜓 1 (𝜉),𝑥 2 =𝜓 2 (𝜉),…,𝑥 𝑚 =𝜓 𝑚 (𝜉) \n",
    "x1=ψ1(ξ),x2=ψ2(ξ),…,xm=ψm(ξ)为样本𝜉 的属性提取函数，则可将𝜉 映射成一个𝑚 元特征向量𝑋 ,即 {X} = X(\\xi)=(x_1,x_2,...,x_m)^T 由此可将线性回归模型的初始模型表示为如下的线性组合形式𝑓(𝑋)=𝑤1𝑥1 +𝑤2𝑥2+⋯+𝑤𝑚𝑥𝑚  f(X)=w1x1+w2x2+⋯+wmxm\n",
    " 其中,𝑤=(𝑤 1 ,𝑤 2 ,…,𝑤 𝑚 ) 𝑇  w=(w1,w2,…,wm)T为参数向量。对于给定带标签训练样本𝑋 ,设其标签值为𝑦 ,则希望线性\n",
    " 回归模型关于该训练样本的预测值输出𝑓(𝑋) f(X)与𝑦 能尽可能接近。通常采用平方误差来度量𝑓(𝑋) 和𝑦 的接近程度,即\n",
    "𝑒=[𝑦−𝑓(𝑋)]2 其中，𝑒 表示单个训练样本𝑋 的误差。对于任意给定的𝑛 个训练样本𝑋 1 ,𝑋 2 ,…,𝑋 𝑛  ,令其标签值分别为𝑦 1 ,𝑦 2 ,…,𝑦 𝑛  ,可将对线性回归模型𝑓(𝑋) 进行优化计算的目标函数定义为𝐽(𝑤)=∑ 𝑖=1 𝑛 [𝑦 𝑖 −𝑓(𝑋 𝑖 )] 2  令训练样本集的特征矩阵为𝐴=(𝑋 1 ,𝑋 2 ,…,𝑋 𝑛 ) 𝑇 =(𝑥 𝑖𝑗 ) 𝑛×𝑚  ,相应的训练样本标签值向量为𝑦=(𝑦 1 ,𝑦 2 ,…,𝑦 𝑛 ) 𝑇  ,则可将上述损失函数转化为 𝐽(𝑤)=(𝑦−𝐴𝑤) 𝑇 (𝑦−𝐴𝑤) 因此，线性回归模型的构造就转化为如下的最优化求解问题 \n",
    "argmin 𝑤 𝐽(𝑤)=argmin 𝑤 (𝑦−𝐴𝑤) 𝑇 (𝑦−𝐴𝑤) 令𝐽(𝑤) 对参数向量𝑤 各分量的偏导数为0,即 ∂𝑗∂𝑤 =𝐴 𝑇 (𝑦−𝐴𝑤)=0 则由𝐴 𝑇 (𝑦−𝐴𝑤)=0 \n",
    "解得 𝑤=(𝐴 𝑇 𝐴) −1 𝐴 𝑇 𝑦 可通过上式计算参数向量𝑤 的取值,并将其代入𝑓(𝑋)=𝑤𝑇𝑋 \n",
    "获得所求线性回归模型。"
   ]
  },
  {
   "cell_type": "markdown",
   "metadata": {},
   "source": [
    "岭回归："
   ]
  },
  {
   "cell_type": "code",
   "execution_count": 37,
   "metadata": {},
   "outputs": [
    {
     "name": "stdout",
     "output_type": "stream",
     "text": [
      "当h为 0 时，w为： [[0.97005319]\n",
      " [0.94918002]]\n",
      "当h为 1 时，w为： [[0.98622128]\n",
      " [0.5928069 ]]\n",
      "当h为 2 时，w为： [[0.99317437]\n",
      " [0.43812336]]\n",
      "当h为 3 时，w为： [[0.99700998]\n",
      " [0.35167285]]\n",
      "当h为 4 时，w为： [[0.99941817]\n",
      " [0.29646485]]\n",
      "当h为 5 时，w为： [[1.00105436]\n",
      " [0.25815439]]\n",
      "当h为 6 时，w为： [[1.00222596]\n",
      " [0.2300128 ]]\n",
      "当h为 7 时，w为： [[1.00309631]\n",
      " [0.2084653 ]]\n",
      "当h为 8 时，w为： [[1.00376021]\n",
      " [0.19143693]]\n",
      "当h为 9 时，w为： [[1.00427647]\n",
      " [0.17764066]]\n",
      "当h为 10 时，w为： [[1.00468349]\n",
      " [0.1662358 ]]\n",
      "当h为 11 时，w为： [[1.00500743]\n",
      " [0.15664996]]\n",
      "当h为 12 时，w为： [[1.0052667 ]\n",
      " [0.14847994]]\n",
      "当h为 13 时，w为： [[1.00547467]\n",
      " [0.14143347]]\n",
      "当h为 14 时，w为： [[1.00564124]\n",
      " [0.13529358]]\n",
      "当h为 15 时，w为： [[1.00577393]\n",
      " [0.12989577]]\n",
      "当h为 16 时，w为： [[1.00587854]\n",
      " [0.12511307]]\n",
      "当h为 17 时，w为： [[1.00595962]\n",
      " [0.12084592]]\n",
      "当h为 18 时，w为： [[1.0060208 ]\n",
      " [0.11701513]]\n",
      "当h为 19 时，w为： [[1.00606497]\n",
      " [0.11355696]]\n"
     ]
    }
   ],
   "source": [
    "import xlrd\n",
    "\n",
    "import numpy as np\n",
    "data = xlrd.open_workbook('jiqinumber.xlsx')\n",
    "sheet = data.sheet_by_index(0)\n",
    "\n",
    "y = [sheet.cell_value(r,0)for r in range(1,sheet.nrows)]\n",
    "\n",
    "x=[sheet.cell_value(r,1)for r in range(1,sheet.nrows)]\n",
    "\n",
    "x1=np.array(x).reshape(len(x),1).tolist()\n",
    "y1=np.array(y).reshape(len(y),1).tolist()\n",
    "for i in range(len(x1)):\n",
    "    x1[i].append(1)\n",
    "I=np.identity(2)\n",
    "\n",
    "\n",
    "A = np.mat(x1)#特征矩阵A\n",
    "\n",
    "A1 = A.transpose()#矩阵A的转置\n",
    "b = np.mat(y)\n",
    "\n",
    "b1 = b.transpose()#y的向量\n",
    "a2=np.dot(A1,A)\n",
    "for h in range(0,20,1):\n",
    "    m=h*I\n",
    "    a3=np.linalg.inv(a2+m)#求逆\n",
    "\n",
    "    a4=np.dot(a3,A1)\n",
    "\n",
    "    w=np.dot(a4,b1)\n",
    "\n",
    "\n",
    "    print(\"当h为\",h,\"时，w为：\",w)\n"
   ]
  },
  {
   "cell_type": "markdown",
   "metadata": {},
   "source": []
  }
 ],
 "metadata": {
  "kernelspec": {
   "display_name": "Python 3",
   "language": "python",
   "name": "python3"
  },
  "language_info": {
   "codemirror_mode": {
    "name": "ipython",
    "version": 3
   },
   "file_extension": ".py",
   "mimetype": "text/x-python",
   "name": "python",
   "nbconvert_exporter": "python",
   "pygments_lexer": "ipython3",
   "version": "3.7.3"
  }
 },
 "nbformat": 4,
 "nbformat_minor": 2
}
